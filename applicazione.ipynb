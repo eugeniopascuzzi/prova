{
 "cells": [
  {
   "cell_type": "code",
   "execution_count": 5,
   "id": "07772205-3cdf-4166-8a44-ad1fc482d2bc",
   "metadata": {},
   "outputs": [
    {
     "data": {
      "text/html": [
       "\n",
       "<div style='text-align: center; font-size: 24px; font-weight: bold; color: #4682B4; padding: 20px;'>\n",
       "    Sviluppo di un’applicazione Jupyter per le Reti Bayesiane\n",
       "</div>\n",
       "\n",
       "<div style=\"text-align: center; padding: 20px;\">\n",
       "    <button onclick=\"window.open('creazione_rete_bayesiane.ipynb', '_blank')\" \n",
       "        style=\"background-color: #87CEEB; color: black; font-weight: bold; \n",
       "               font-size: 16px; width: 260px; height: 70px; border: none; \n",
       "               border-radius: 8px; cursor: pointer; margin: 10px;\">\n",
       "        Creazione con sistema<br>utente esperto\n",
       "    </button>\n",
       "    <button onclick=\"window.open('rete_bayesiana_csv.ipynb', '_blank')\" \n",
       "        style=\"background-color: #87CEEB; color: black; font-weight: bold; \n",
       "               font-size: 16px; width: 260px; height: 70px; border: none; \n",
       "               border-radius: 8px; cursor: pointer; margin: 10px;\">\n",
       "        Creazione con apprendimento<br>Automatico\n",
       "    </button>\n",
       "</div>\n"
      ],
      "text/plain": [
       "<IPython.core.display.HTML object>"
      ]
     },
     "metadata": {},
     "output_type": "display_data"
    }
   ],
   "source": [
    "from IPython.display import display, HTML\n",
    "\n",
    "\n",
    "title_html = \"\"\"\n",
    "<div style='text-align: center; font-size: 24px; font-weight: bold; color: #4682B4; padding: 20px;'>\n",
    "    Sviluppo di un’applicazione Jupyter per le Reti Bayesiane\n",
    "</div>\n",
    "\"\"\"\n",
    "\n",
    "\n",
    "notebook_manual_path = \"creazione_rete_bayesiane.ipynb\"\n",
    "notebook_auto_path = \"rete_bayesiana_csv.ipynb\"\n",
    "\n",
    "\n",
    "buttons_html = f\"\"\"\n",
    "<div style=\"text-align: center; padding: 20px;\">\n",
    "    <button onclick=\"window.open('{notebook_manual_path}', '_blank')\" \n",
    "        style=\"background-color: #87CEEB; color: black; font-weight: bold; \n",
    "               font-size: 16px; width: 260px; height: 70px; border: none; \n",
    "               border-radius: 8px; cursor: pointer; margin: 10px;\">\n",
    "        Creazione con sistema<br>utente esperto\n",
    "    </button>\n",
    "    <button onclick=\"window.open('{notebook_auto_path}', '_blank')\" \n",
    "        style=\"background-color: #87CEEB; color: black; font-weight: bold; \n",
    "               font-size: 16px; width: 260px; height: 70px; border: none; \n",
    "               border-radius: 8px; cursor: pointer; margin: 10px;\">\n",
    "        Creazione con apprendimento<br>Automatico\n",
    "    </button>\n",
    "</div>\n",
    "\"\"\"\n",
    "\n",
    "# Mostra l'interfaccia\n",
    "display(HTML(title_html + buttons_html))\n"
   ]
  }
 ],
 "metadata": {
  "kernelspec": {
   "display_name": "Python 3 (ipykernel)",
   "language": "python",
   "name": "python3"
  },
  "language_info": {
   "codemirror_mode": {
    "name": "ipython",
    "version": 3
   },
   "file_extension": ".py",
   "mimetype": "text/x-python",
   "name": "python",
   "nbconvert_exporter": "python",
   "pygments_lexer": "ipython3",
   "version": "3.12.2"
  }
 },
 "nbformat": 4,
 "nbformat_minor": 5
}
